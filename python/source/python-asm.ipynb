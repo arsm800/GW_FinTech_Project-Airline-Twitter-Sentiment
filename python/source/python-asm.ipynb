{
 "cells": [
  {
   "cell_type": "code",
   "execution_count": 1,
   "metadata": {},
   "outputs": [],
   "source": [
    "import pandas as pd\n",
    "import numpy as np\n",
    "import datetime as dt\n",
    "from pathlib import Path\n",
    "import seaborn as sns\n",
    "%matplotlib inline\n"
   ]
  },
  {
   "cell_type": "code",
   "execution_count": 2,
   "metadata": {},
   "outputs": [
    {
     "data": {
      "text/plain": [
       "PosixPath('/Users/AndrewSM/Education/George Washington University/Projects/project-1/python/source')"
      ]
     },
     "execution_count": 2,
     "metadata": {},
     "output_type": "execute_result"
    }
   ],
   "source": [
    "Path.cwd()"
   ]
  },
  {
   "cell_type": "code",
   "execution_count": 16,
   "metadata": {},
   "outputs": [
    {
     "data": {
      "text/html": [
       "<div>\n",
       "<style scoped>\n",
       "    .dataframe tbody tr th:only-of-type {\n",
       "        vertical-align: middle;\n",
       "    }\n",
       "\n",
       "    .dataframe tbody tr th {\n",
       "        vertical-align: top;\n",
       "    }\n",
       "\n",
       "    .dataframe thead th {\n",
       "        text-align: right;\n",
       "    }\n",
       "</style>\n",
       "<table border=\"1\" class=\"dataframe\">\n",
       "  <thead>\n",
       "    <tr style=\"text-align: right;\">\n",
       "      <th></th>\n",
       "      <th>0</th>\n",
       "      <th>2020-08-12 11:39:16</th>\n",
       "      <th>Unnamed: 2</th>\n",
       "      <th>Unnamed: 3</th>\n",
       "      <th>1293512371802177537</th>\n",
       "      <th>RT @Samroth61562816: $GOLD “Textbook” Bounce, Daily\n",
       "\n",
       "$f $ge $aapl $msft $aal $dis $dal $tsla $ccl $plug $nclh $snap $fit $ba $mrna $ual $am…</th>\n",
       "    </tr>\n",
       "  </thead>\n",
       "  <tbody>\n",
       "    <tr>\n",
       "      <th>0</th>\n",
       "      <td>1</td>\n",
       "      <td>2020-08-12 11:38:20</td>\n",
       "      <td>NaN</td>\n",
       "      <td>NaN</td>\n",
       "      <td>1293512137864880129</td>\n",
       "      <td>$GOLD “Textbook” Bounce, Daily\\n\\n$f $ge $aapl...</td>\n",
       "    </tr>\n",
       "    <tr>\n",
       "      <th>1</th>\n",
       "      <td>2</td>\n",
       "      <td>2020-08-12 11:34:59</td>\n",
       "      <td>NaN</td>\n",
       "      <td>NaN</td>\n",
       "      <td>1293511295241801731</td>\n",
       "      <td>RT @Samroth61562816: $GOLD... “TEXTBOOK” BOUNC...</td>\n",
       "    </tr>\n",
       "    <tr>\n",
       "      <th>2</th>\n",
       "      <td>3</td>\n",
       "      <td>2020-08-12 11:34:43</td>\n",
       "      <td>NaN</td>\n",
       "      <td>NaN</td>\n",
       "      <td>1293511229290491904</td>\n",
       "      <td>RT @Samroth61562816: GUY ADAMI, CNBC\\n\\n$GOLD ...</td>\n",
       "    </tr>\n",
       "    <tr>\n",
       "      <th>3</th>\n",
       "      <td>4</td>\n",
       "      <td>2020-08-12 11:34:38</td>\n",
       "      <td>NaN</td>\n",
       "      <td>NaN</td>\n",
       "      <td>1293511207853404160</td>\n",
       "      <td>RT @Samroth61562816: $GDX:\\n\\n\"NEWMONT WORRIED...</td>\n",
       "    </tr>\n",
       "    <tr>\n",
       "      <th>4</th>\n",
       "      <td>5</td>\n",
       "      <td>2020-08-12 11:34:33</td>\n",
       "      <td>NaN</td>\n",
       "      <td>NaN</td>\n",
       "      <td>1293511186399535104</td>\n",
       "      <td>RT @Samroth61562816: Mr Wonderful: $GLD CNBC\\n...</td>\n",
       "    </tr>\n",
       "  </tbody>\n",
       "</table>\n",
       "</div>"
      ],
      "text/plain": [
       "   0  2020-08-12 11:39:16 Unnamed: 2  Unnamed: 3  1293512371802177537  \\\n",
       "0  1  2020-08-12 11:38:20        NaN         NaN  1293512137864880129   \n",
       "1  2  2020-08-12 11:34:59        NaN         NaN  1293511295241801731   \n",
       "2  3  2020-08-12 11:34:43        NaN         NaN  1293511229290491904   \n",
       "3  4  2020-08-12 11:34:38        NaN         NaN  1293511207853404160   \n",
       "4  5  2020-08-12 11:34:33        NaN         NaN  1293511186399535104   \n",
       "\n",
       "  RT @Samroth61562816: $GOLD “Textbook” Bounce, Daily\\n\\n$f $ge $aapl $msft $aal $dis $dal $tsla $ccl $plug $nclh $snap $fit $ba $mrna $ual $am…  \n",
       "0  $GOLD “Textbook” Bounce, Daily\\n\\n$f $ge $aapl...                                                                                              \n",
       "1  RT @Samroth61562816: $GOLD... “TEXTBOOK” BOUNC...                                                                                              \n",
       "2  RT @Samroth61562816: GUY ADAMI, CNBC\\n\\n$GOLD ...                                                                                              \n",
       "3  RT @Samroth61562816: $GDX:\\n\\n\"NEWMONT WORRIED...                                                                                              \n",
       "4  RT @Samroth61562816: Mr Wonderful: $GLD CNBC\\n...                                                                                              "
      ]
     },
     "execution_count": 16,
     "metadata": {},
     "output_type": "execute_result"
    }
   ],
   "source": [
    "# Set file paths\n",
    "\n",
    "file_path_united = Path('../../live_tweet_data/united_airlines.csv')\n",
    "file_path_united_stock = Path('../../live_tweet_data/ual.csv')\n",
    "file_path_delta = Path('../../live_tweet_data/delta_airlines.csv')\n",
    "file_path_delta_stock = Path('../../live_tweet_data/dal.csv')\n",
    "file_path_american = Path('../../live_tweet_data/american_airlines.csv')\n",
    "file_path_american_stock = Path('../../live_tweet_data/aal.csv')\n",
    "file_path_alaska = Path('../../live_tweet_data/alaska_airlines.csv')\n",
    "file_path_alaska_stock = Path('../../live_tweet_data/alk.csv')\n",
    "file_path_southwest = Path('../../live_tweet_data/southwest_airlines.csv')\n",
    "file_path_southwest_stock = Path('../../live_tweet_data/luv.csv')\n",
    "file_path_jetblue = Path('../../live_tweet_data/jetblue.csv')\n",
    "file_path_jetblue_stock = Path('../../live_tweet_data/jblu.csv')\n",
    "\n",
    "df = pd.read_csv(file_path_jetblue_stock)\n",
    "df.head()"
   ]
  },
  {
   "cell_type": "code",
   "execution_count": null,
   "metadata": {},
   "outputs": [],
   "source": []
  }
 ],
 "metadata": {
  "kernelspec": {
   "display_name": "Python 3",
   "language": "python",
   "name": "python3"
  },
  "language_info": {
   "codemirror_mode": {
    "name": "ipython",
    "version": 3
   },
   "file_extension": ".py",
   "mimetype": "text/x-python",
   "name": "python",
   "nbconvert_exporter": "python",
   "pygments_lexer": "ipython3",
   "version": "3.7.7"
  }
 },
 "nbformat": 4,
 "nbformat_minor": 4
}
