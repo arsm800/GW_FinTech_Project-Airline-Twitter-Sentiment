{
 "cells": [
  {
   "cell_type": "code",
   "execution_count": 33,
   "metadata": {},
   "outputs": [],
   "source": [
    "import pandas as pd\n",
    "import numpy as np\n",
    "import datetime as dt\n",
    "from pathlib import Path\n",
    "import seaborn as sns\n",
    "%matplotlib inline\n",
    "import matplotlib.pyplot as plt\n",
    "\n",
    "import panel as pn\n",
    "\n",
    "# Initialize the Panel Extensions (for Plotly)\n",
    "pn.extension('plotly')\n",
    "import hvplot.pandas\n",
    "\n",
    "import plotly.express as px"
   ]
  },
  {
   "cell_type": "code",
   "execution_count": 2,
   "metadata": {},
   "outputs": [
    {
     "data": {
      "text/plain": [
       "PosixPath('/Users/AndrewSM/Education/George Washington University/Projects/project-1/python/source')"
      ]
     },
     "execution_count": 2,
     "metadata": {},
     "output_type": "execute_result"
    }
   ],
   "source": [
    "Path.cwd()"
   ]
  },
  {
   "cell_type": "code",
   "execution_count": 3,
   "metadata": {},
   "outputs": [
    {
     "data": {
      "text/html": [
       "<div>\n",
       "<style scoped>\n",
       "    .dataframe tbody tr th:only-of-type {\n",
       "        vertical-align: middle;\n",
       "    }\n",
       "\n",
       "    .dataframe tbody tr th {\n",
       "        vertical-align: top;\n",
       "    }\n",
       "\n",
       "    .dataframe thead th {\n",
       "        text-align: right;\n",
       "    }\n",
       "</style>\n",
       "<table border=\"1\" class=\"dataframe\">\n",
       "  <thead>\n",
       "    <tr style=\"text-align: right;\">\n",
       "      <th></th>\n",
       "      <th>0</th>\n",
       "      <th>2020-08-12 11:39:16</th>\n",
       "      <th>Unnamed: 2</th>\n",
       "      <th>Unnamed: 3</th>\n",
       "      <th>1293512371802177537</th>\n",
       "      <th>RT @Samroth61562816: $GOLD “Textbook” Bounce, Daily\n",
       "\n",
       "$f $ge $aapl $msft $aal $dis $dal $tsla $ccl $plug $nclh $snap $fit $ba $mrna $ual $am…</th>\n",
       "    </tr>\n",
       "  </thead>\n",
       "  <tbody>\n",
       "    <tr>\n",
       "      <th>0</th>\n",
       "      <td>1</td>\n",
       "      <td>2020-08-12 11:38:20</td>\n",
       "      <td>NaN</td>\n",
       "      <td>NaN</td>\n",
       "      <td>1293512137864880129</td>\n",
       "      <td>$GOLD “Textbook” Bounce, Daily\\n\\n$f $ge $aapl...</td>\n",
       "    </tr>\n",
       "    <tr>\n",
       "      <th>1</th>\n",
       "      <td>2</td>\n",
       "      <td>2020-08-12 11:34:59</td>\n",
       "      <td>NaN</td>\n",
       "      <td>NaN</td>\n",
       "      <td>1293511295241801731</td>\n",
       "      <td>RT @Samroth61562816: $GOLD... “TEXTBOOK” BOUNC...</td>\n",
       "    </tr>\n",
       "    <tr>\n",
       "      <th>2</th>\n",
       "      <td>3</td>\n",
       "      <td>2020-08-12 11:34:43</td>\n",
       "      <td>NaN</td>\n",
       "      <td>NaN</td>\n",
       "      <td>1293511229290491904</td>\n",
       "      <td>RT @Samroth61562816: GUY ADAMI, CNBC\\n\\n$GOLD ...</td>\n",
       "    </tr>\n",
       "    <tr>\n",
       "      <th>3</th>\n",
       "      <td>4</td>\n",
       "      <td>2020-08-12 11:34:38</td>\n",
       "      <td>NaN</td>\n",
       "      <td>NaN</td>\n",
       "      <td>1293511207853404160</td>\n",
       "      <td>RT @Samroth61562816: $GDX:\\n\\n\"NEWMONT WORRIED...</td>\n",
       "    </tr>\n",
       "    <tr>\n",
       "      <th>4</th>\n",
       "      <td>5</td>\n",
       "      <td>2020-08-12 11:34:33</td>\n",
       "      <td>NaN</td>\n",
       "      <td>NaN</td>\n",
       "      <td>1293511186399535104</td>\n",
       "      <td>RT @Samroth61562816: Mr Wonderful: $GLD CNBC\\n...</td>\n",
       "    </tr>\n",
       "  </tbody>\n",
       "</table>\n",
       "</div>"
      ],
      "text/plain": [
       "   0  2020-08-12 11:39:16 Unnamed: 2  Unnamed: 3  1293512371802177537  \\\n",
       "0  1  2020-08-12 11:38:20        NaN         NaN  1293512137864880129   \n",
       "1  2  2020-08-12 11:34:59        NaN         NaN  1293511295241801731   \n",
       "2  3  2020-08-12 11:34:43        NaN         NaN  1293511229290491904   \n",
       "3  4  2020-08-12 11:34:38        NaN         NaN  1293511207853404160   \n",
       "4  5  2020-08-12 11:34:33        NaN         NaN  1293511186399535104   \n",
       "\n",
       "  RT @Samroth61562816: $GOLD “Textbook” Bounce, Daily\\n\\n$f $ge $aapl $msft $aal $dis $dal $tsla $ccl $plug $nclh $snap $fit $ba $mrna $ual $am…  \n",
       "0  $GOLD “Textbook” Bounce, Daily\\n\\n$f $ge $aapl...                                                                                              \n",
       "1  RT @Samroth61562816: $GOLD... “TEXTBOOK” BOUNC...                                                                                              \n",
       "2  RT @Samroth61562816: GUY ADAMI, CNBC\\n\\n$GOLD ...                                                                                              \n",
       "3  RT @Samroth61562816: $GDX:\\n\\n\"NEWMONT WORRIED...                                                                                              \n",
       "4  RT @Samroth61562816: Mr Wonderful: $GLD CNBC\\n...                                                                                              "
      ]
     },
     "execution_count": 3,
     "metadata": {},
     "output_type": "execute_result"
    }
   ],
   "source": [
    "# Set file paths\n",
    "\n",
    "file_path_united = Path('../../live_tweet_data/united_airlines.csv')\n",
    "file_path_united_stock = Path('../../live_tweet_data/ual.csv')\n",
    "file_path_delta = Path('../../live_tweet_data/delta_airlines.csv')\n",
    "file_path_delta_stock = Path('../../live_tweet_data/dal.csv')\n",
    "file_path_american = Path('../../live_tweet_data/american_airlines.csv')\n",
    "file_path_american_stock = Path('../../live_tweet_data/aal.csv')\n",
    "file_path_alaska = Path('../../live_tweet_data/alaska_airlines.csv')\n",
    "file_path_alaska_stock = Path('../../live_tweet_data/alk.csv')\n",
    "file_path_southwest = Path('../../live_tweet_data/southwest_airlines.csv')\n",
    "file_path_southwest_stock = Path('../../live_tweet_data/luv.csv')\n",
    "file_path_jetblue = Path('../../live_tweet_data/jetblue.csv')\n",
    "file_path_jetblue_stock = Path('../../live_tweet_data/jblu.csv')\n",
    "\n",
    "df = pd.read_csv(file_path_jetblue_stock)\n",
    "df.head()"
   ]
  },
  {
   "cell_type": "code",
   "execution_count": 4,
   "metadata": {},
   "outputs": [],
   "source": [
    "# Create DataFrames\n",
    "united_airlines = pd.read_csv(file_path_united, parse_dates=True, infer_datetime_format=True)\n",
    "united_airlines_stock = pd.read_csv(file_path_united_stock, parse_dates=True, infer_datetime_format=True)\n",
    "delta_airlines = pd.read_csv(file_path_delta, parse_dates=True, infer_datetime_format=True)\n",
    "delta_airlines_stock = pd.read_csv(file_path_delta_stock, parse_dates=True, infer_datetime_format=True)\n",
    "american_airlines = pd.read_csv(file_path_american, parse_dates=True, infer_datetime_format=True)\n",
    "american_airlines_stock = pd.read_csv(file_path_american_stock, parse_dates=True, infer_datetime_format=True)\n",
    "alaska_airlines = pd.read_csv(file_path_alaska, parse_dates=True, infer_datetime_format=True)\n",
    "alaska_airlines_stock = pd.read_csv(file_path_alaska_stock, parse_dates=True, infer_datetime_format=True)\n",
    "southwest_airlines = pd.read_csv(file_path_southwest, parse_dates=True, infer_datetime_format=True)\n",
    "southwest_airlines_stock = pd.read_csv(file_path_southwest_stock, parse_dates=True, infer_datetime_format=True)\n",
    "jetblue = pd.read_csv(file_path_jetblue, parse_dates=True, infer_datetime_format=True)\n",
    "jetblue_stock = pd.read_csv(file_path_jetblue_stock, parse_dates=True, infer_datetime_format=True)\n",
    "\n"
   ]
  },
  {
   "cell_type": "code",
   "execution_count": 8,
   "metadata": {},
   "outputs": [],
   "source": [
    "# Add headers to files\n",
    "dataframes = [united_airlines, \n",
    "              united_airlines_stock,\n",
    "              delta_airlines,\n",
    "              delta_airlines_stock,\n",
    "              american_airlines,\n",
    "              american_airlines_stock,\n",
    "              alaska_airlines,\n",
    "              alaska_airlines_stock,\n",
    "              southwest_airlines,\n",
    "              southwest_airlines_stock,\n",
    "              jetblue,\n",
    "              jetblue_stock]\n",
    "\n",
    "# Created fuction to add all headers (function has already been called)\n",
    "def add_headers():\n",
    "    for df in dataframes:\n",
    "        df.columns = [\"Number\", \n",
    "                      \"Date\", \n",
    "                      \"Location\", \n",
    "                      \"Location Coordinates\", \n",
    "                      \"TweetID\", \n",
    "                      \"Text\"]\n",
    "        \n",
    "#add_headers()"
   ]
  },
  {
   "cell_type": "code",
   "execution_count": 11,
   "metadata": {},
   "outputs": [
    {
     "data": {
      "text/html": [
       "<div>\n",
       "<style scoped>\n",
       "    .dataframe tbody tr th:only-of-type {\n",
       "        vertical-align: middle;\n",
       "    }\n",
       "\n",
       "    .dataframe tbody tr th {\n",
       "        vertical-align: top;\n",
       "    }\n",
       "\n",
       "    .dataframe thead th {\n",
       "        text-align: right;\n",
       "    }\n",
       "</style>\n",
       "<table border=\"1\" class=\"dataframe\">\n",
       "  <thead>\n",
       "    <tr style=\"text-align: right;\">\n",
       "      <th></th>\n",
       "      <th>Number</th>\n",
       "      <th>Location</th>\n",
       "      <th>Location Coordinates</th>\n",
       "      <th>TweetID</th>\n",
       "      <th>Text</th>\n",
       "    </tr>\n",
       "    <tr>\n",
       "      <th>Date</th>\n",
       "      <th></th>\n",
       "      <th></th>\n",
       "      <th></th>\n",
       "      <th></th>\n",
       "      <th></th>\n",
       "    </tr>\n",
       "  </thead>\n",
       "  <tbody>\n",
       "    <tr>\n",
       "      <th>2020-08-12 11:42:27</th>\n",
       "      <td>1</td>\n",
       "      <td>NaN</td>\n",
       "      <td>NaN</td>\n",
       "      <td>1.293513e+18</td>\n",
       "      <td>Thanks for the alert &amp;amp; updates\\nhttps://t....</td>\n",
       "    </tr>\n",
       "    <tr>\n",
       "      <th>2020-08-12 11:42:23</th>\n",
       "      <td>2</td>\n",
       "      <td>NaN</td>\n",
       "      <td>NaN</td>\n",
       "      <td>1.293513e+18</td>\n",
       "      <td>RT @TicTocTick: 3333 target 🎯 met\\n\\n42 point ...</td>\n",
       "    </tr>\n",
       "    <tr>\n",
       "      <th>2020-08-12 11:42:00</th>\n",
       "      <td>3</td>\n",
       "      <td>pourrie à la maison</td>\n",
       "      <td>NaN</td>\n",
       "      <td>1.293513e+18</td>\n",
       "      <td>@summerhightime mahek SAME w idk how i already...</td>\n",
       "    </tr>\n",
       "    <tr>\n",
       "      <th>2020-08-12 11:41:03</th>\n",
       "      <td>4</td>\n",
       "      <td>NaN</td>\n",
       "      <td>NaN</td>\n",
       "      <td>1.293513e+18</td>\n",
       "      <td>$RGGI Huge alert - Technical Analysis for RGGI...</td>\n",
       "    </tr>\n",
       "    <tr>\n",
       "      <th>2020-08-12 11:40:29</th>\n",
       "      <td>5</td>\n",
       "      <td>NaN</td>\n",
       "      <td>NaN</td>\n",
       "      <td>1.293513e+18</td>\n",
       "      <td>STOCK, OPTIONS updates, alerts Free chatroom h...</td>\n",
       "    </tr>\n",
       "  </tbody>\n",
       "</table>\n",
       "</div>"
      ],
      "text/plain": [
       "                    Number              Location Location Coordinates  \\\n",
       "Date                                                                    \n",
       "2020-08-12 11:42:27      1                   NaN                  NaN   \n",
       "2020-08-12 11:42:23      2                   NaN                  NaN   \n",
       "2020-08-12 11:42:00      3  pourrie à la maison                   NaN   \n",
       "2020-08-12 11:41:03      4                   NaN                  NaN   \n",
       "2020-08-12 11:40:29      5                   NaN                  NaN   \n",
       "\n",
       "                          TweetID  \\\n",
       "Date                                \n",
       "2020-08-12 11:42:27  1.293513e+18   \n",
       "2020-08-12 11:42:23  1.293513e+18   \n",
       "2020-08-12 11:42:00  1.293513e+18   \n",
       "2020-08-12 11:41:03  1.293513e+18   \n",
       "2020-08-12 11:40:29  1.293513e+18   \n",
       "\n",
       "                                                                  Text  \n",
       "Date                                                                    \n",
       "2020-08-12 11:42:27  Thanks for the alert &amp; updates\\nhttps://t....  \n",
       "2020-08-12 11:42:23  RT @TicTocTick: 3333 target 🎯 met\\n\\n42 point ...  \n",
       "2020-08-12 11:42:00  @summerhightime mahek SAME w idk how i already...  \n",
       "2020-08-12 11:41:03  $RGGI Huge alert - Technical Analysis for RGGI...  \n",
       "2020-08-12 11:40:29  STOCK, OPTIONS updates, alerts Free chatroom h...  "
      ]
     },
     "execution_count": 11,
     "metadata": {},
     "output_type": "execute_result"
    }
   ],
   "source": [
    "# Set indexes to date column (function has already been called)\n",
    "def set_index():\n",
    "    for df in dataframes:\n",
    "        df.set_index('Date', inplace=True)\n",
    "        \n",
    "\n",
    "#set_index()\n",
    "        \n",
    "american_airlines_stock.head()"
   ]
  },
  {
   "cell_type": "code",
   "execution_count": 23,
   "metadata": {},
   "outputs": [
    {
     "data": {
      "text/html": [
       "<div>\n",
       "<style scoped>\n",
       "    .dataframe tbody tr th:only-of-type {\n",
       "        vertical-align: middle;\n",
       "    }\n",
       "\n",
       "    .dataframe tbody tr th {\n",
       "        vertical-align: top;\n",
       "    }\n",
       "\n",
       "    .dataframe thead th {\n",
       "        text-align: right;\n",
       "    }\n",
       "</style>\n",
       "<table border=\"1\" class=\"dataframe\">\n",
       "  <thead>\n",
       "    <tr style=\"text-align: right;\">\n",
       "      <th></th>\n",
       "      <th>Number</th>\n",
       "      <th>Location</th>\n",
       "      <th>Location Coordinates</th>\n",
       "      <th>TweetID</th>\n",
       "      <th>Text</th>\n",
       "      <th>Airline</th>\n",
       "    </tr>\n",
       "    <tr>\n",
       "      <th>Date</th>\n",
       "      <th></th>\n",
       "      <th></th>\n",
       "      <th></th>\n",
       "      <th></th>\n",
       "      <th></th>\n",
       "      <th></th>\n",
       "    </tr>\n",
       "  </thead>\n",
       "  <tbody>\n",
       "    <tr>\n",
       "      <th>2020-08-12 11:26:04</th>\n",
       "      <td>1</td>\n",
       "      <td>NaN</td>\n",
       "      <td>NaN</td>\n",
       "      <td>1.293509e+18</td>\n",
       "      <td>RT @TradeOnTheWire1: - UNITED AIRLINES HOLDING...</td>\n",
       "      <td>United Airlines</td>\n",
       "    </tr>\n",
       "    <tr>\n",
       "      <th>2020-08-12 11:21:53</th>\n",
       "      <td>2</td>\n",
       "      <td>NaN</td>\n",
       "      <td>NaN</td>\n",
       "      <td>1.293508e+18</td>\n",
       "      <td>Cathay Rises Most Since 2008 as Reopening Chan...</td>\n",
       "      <td>United Airlines</td>\n",
       "    </tr>\n",
       "    <tr>\n",
       "      <th>2020-08-12 11:11:19</th>\n",
       "      <td>3</td>\n",
       "      <td>Current City-Sugar Land, Texas</td>\n",
       "      <td>NaN</td>\n",
       "      <td>1.293505e+18</td>\n",
       "      <td>RT @FOX26Houston: Airlines have been hit with ...</td>\n",
       "      <td>United Airlines</td>\n",
       "    </tr>\n",
       "    <tr>\n",
       "      <th>2020-08-12 11:00:25</th>\n",
       "      <td>4</td>\n",
       "      <td>Grapevine, TX</td>\n",
       "      <td>NaN</td>\n",
       "      <td>1.293503e+18</td>\n",
       "      <td>United American Airlines? The 'Lesson', should...</td>\n",
       "      <td>United Airlines</td>\n",
       "    </tr>\n",
       "    <tr>\n",
       "      <th>2020-08-12 10:58:04</th>\n",
       "      <td>5</td>\n",
       "      <td>NaN</td>\n",
       "      <td>NaN</td>\n",
       "      <td>1.293502e+18</td>\n",
       "      <td>-✈ Small Aircraft Collections - United Airline...</td>\n",
       "      <td>United Airlines</td>\n",
       "    </tr>\n",
       "  </tbody>\n",
       "</table>\n",
       "</div>"
      ],
      "text/plain": [
       "                    Number                        Location  \\\n",
       "Date                                                         \n",
       "2020-08-12 11:26:04      1                             NaN   \n",
       "2020-08-12 11:21:53      2                             NaN   \n",
       "2020-08-12 11:11:19      3  Current City-Sugar Land, Texas   \n",
       "2020-08-12 11:00:25      4                   Grapevine, TX   \n",
       "2020-08-12 10:58:04      5                             NaN   \n",
       "\n",
       "                    Location Coordinates       TweetID  \\\n",
       "Date                                                     \n",
       "2020-08-12 11:26:04                  NaN  1.293509e+18   \n",
       "2020-08-12 11:21:53                  NaN  1.293508e+18   \n",
       "2020-08-12 11:11:19                  NaN  1.293505e+18   \n",
       "2020-08-12 11:00:25                  NaN  1.293503e+18   \n",
       "2020-08-12 10:58:04                  NaN  1.293502e+18   \n",
       "\n",
       "                                                                  Text  \\\n",
       "Date                                                                     \n",
       "2020-08-12 11:26:04  RT @TradeOnTheWire1: - UNITED AIRLINES HOLDING...   \n",
       "2020-08-12 11:21:53  Cathay Rises Most Since 2008 as Reopening Chan...   \n",
       "2020-08-12 11:11:19  RT @FOX26Houston: Airlines have been hit with ...   \n",
       "2020-08-12 11:00:25  United American Airlines? The 'Lesson', should...   \n",
       "2020-08-12 10:58:04  -✈ Small Aircraft Collections - United Airline...   \n",
       "\n",
       "                             Airline  \n",
       "Date                                  \n",
       "2020-08-12 11:26:04  United Airlines  \n",
       "2020-08-12 11:21:53  United Airlines  \n",
       "2020-08-12 11:11:19  United Airlines  \n",
       "2020-08-12 11:00:25  United Airlines  \n",
       "2020-08-12 10:58:04  United Airlines  "
      ]
     },
     "execution_count": 23,
     "metadata": {},
     "output_type": "execute_result"
    }
   ],
   "source": [
    "# Add 'Airline' column and concatenate into 1 dataframe\n",
    "united_airlines['Airline'] = 'United Airlines'\n",
    "united_airlines_stock['Airline'] = 'United Airlines'\n",
    "delta_airlines['Airline'] = 'Delta Airlines'\n",
    "delta_airlines_stock['Airline'] = 'Delta Airlines'\n",
    "american_airlines['Airline'] = 'American Airlines'\n",
    "american_airlines_stock['Airline'] = 'American Airlines'\n",
    "alaska_airlines['Airline'] = 'Alaska Airlines'\n",
    "alaska_airlines_stock['Airline'] = 'Alaska Airlines'\n",
    "southwest_airlines['Airline'] = 'Southwest Airlines'\n",
    "southwest_airlines_stock['Airline'] = 'Southwest Airlines'\n",
    "jetblue['Airline'] = 'JetBlue'\n",
    "jetblue_stock['Airline'] = 'JetBlue'\n",
    "\n",
    "\n",
    "\n",
    "# Concat dataframes\n",
    "airline_tweets = pd.concat([united_airlines, \n",
    "                            united_airlines_stock,\n",
    "                            delta_airlines,\n",
    "                            delta_airlines_stock,\n",
    "                            american_airlines,\n",
    "                            american_airlines_stock,\n",
    "                            alaska_airlines,\n",
    "                            alaska_airlines_stock,\n",
    "                            southwest_airlines,\n",
    "                            southwest_airlines_stock,\n",
    "                            jetblue,\n",
    "                            jetblue_stock], \n",
    "                            axis='rows', \n",
    "                            join='inner')\n",
    "\n",
    "\n",
    "airline_tweets.head()\n",
    "\n",
    "# Final dataframe\n",
    "# have all independent variables\n",
    "# Don't target stock price; instead use excess returns over actual price\n",
    "# Break out sentiment by day (day 1 and day 2)"
   ]
  },
  {
   "cell_type": "code",
   "execution_count": 41,
   "metadata": {},
   "outputs": [
    {
     "name": "stdout",
     "output_type": "stream",
     "text": [
      "Airline\n",
      "Alaska Airlines       3798\n",
      "American Airlines     3666\n",
      "Delta Airlines        3798\n",
      "JetBlue               3204\n",
      "Southwest Airlines    3793\n",
      "United Airlines       3622\n",
      "Name: Text, dtype: int64\n"
     ]
    },
    {
     "data": {
      "text/plain": [
       "Text(0, 0.5, 'Number of Tweets')"
      ]
     },
     "execution_count": 41,
     "metadata": {},
     "output_type": "execute_result"
    },
    {
     "data": {
      "image/png": "[encoded data removed]",
      "text/plain": [
       "<Figure size 432x288 with 1 Axes>"
      ]
     },
     "metadata": {
      "needs_background": "light"
     },
     "output_type": "display_data"
    }
   ],
   "source": [
    "# Random charts\n",
    "tweet_count = airline_tweets.groupby('Airline')['Text'].count()\n",
    "print(tweet_count)\n",
    "tweet_count.plot(kind='bar', rot=45, title='Airline Tweets')\n",
    "plt.xlabel(\"\")\n",
    "plt.ylabel(\"Number of Tweets\")"
   ]
  },
  {
   "cell_type": "code",
   "execution_count": 57,
   "metadata": {},
   "outputs": [
    {
     "data": {
      "application/vnd.holoviews_exec.v0+json": "",
      "text/html": [
       "<div id='1625'>\n",
       "\n",
       "\n",
       "\n",
       "\n",
       "\n",
       "  <div class=\"bk-root\" id=\"73a276b5-a363-4e12-822c-55f29f957f28\" data-root-id=\"1625\"></div>\n",
       "</div>\n",
       "<script type=\"application/javascript\">(function(root) {\n",
       "  function embed_document(root) {\n",
       "  var docs_json = {\"7ef7b56d-8aee-4031-9d3b-0d9f8f44dc0c\":{\"roots\":{\"references\":[{\"attributes\":{},\"id\":\"1635\",\"type\":\"CategoricalScale\"},{\"attributes\":{\"data\":{\"Airline\":[\"Delta Airlines\",\"Alaska Airlines\",\"Southwest Airlines\",\"American Airlines\",\"United Airlines\",\"JetBlue\"],\"Text\":[3798,3798,3793,3666,3622,3204]},\"selected\":{\"id\":\"1660\"},\"selection_policy\":{\"id\":\"1677\"}},\"id\":\"1659\",\"type\":\"ColumnDataSource\"},{\"attributes\":{\"callback\":null,\"renderers\":[{\"id\":\"1665\"}],\"tags\":[\"hv_created\"],\"tooltips\":[[\"Airline\",\"@{Airline}\"],[\"Text\",\"@{Text}\"]]},\"id\":\"1629\",\"type\":\"HoverTool\"},{\"attributes\":{\"bottom_units\":\"screen\",\"fill_alpha\":0.5,\"fill_color\":\"lightgrey\",\"left_units\":\"screen\",\"level\":\"overlay\",\"line_alpha\":1.0,\"line_color\":\"black\",\"line_dash\":[4,4],\"line_width\":2,\"right_units\":\"screen\",\"top_units\":\"screen\"},\"id\":\"1651\",\"type\":\"BoxAnnotation\"},{\"attributes\":{\"children\":[{\"id\":\"1626\"},{\"id\":\"1630\"},{\"id\":\"1687\"}],\"margin\":[0,0,0,0],\"name\":\"Row02814\",\"tags\":[\"embedded\"]},\"id\":\"1625\",\"type\":\"Row\"},{\"attributes\":{},\"id\":\"1646\",\"type\":\"SaveTool\"},{\"attributes\":{\"fill_color\":{\"value\":\"#1f77b3\"},\"top\":{\"field\":\"Text\"},\"width\":{\"value\":0.8},\"x\":{\"field\":\"Airline\"}},\"id\":\"1662\",\"type\":\"VBar\"},{\"attributes\":{},\"id\":\"1668\",\"type\":\"CategoricalTickFormatter\"},{\"attributes\":{\"active_drag\":\"auto\",\"active_inspect\":\"auto\",\"active_multi\":null,\"active_scroll\":\"auto\",\"active_tap\":\"auto\",\"tools\":[{\"id\":\"1629\"},{\"id\":\"1646\"},{\"id\":\"1647\"},{\"id\":\"1648\"},{\"id\":\"1649\"},{\"id\":\"1650\"}]},\"id\":\"1652\",\"type\":\"Toolbar\"},{\"attributes\":{\"align\":null,\"below\":[{\"id\":\"1639\"}],\"center\":[{\"id\":\"1641\"},{\"id\":\"1645\"}],\"left\":[{\"id\":\"1642\"}],\"margin\":null,\"min_border_bottom\":10,\"min_border_left\":10,\"min_border_right\":10,\"min_border_top\":10,\"plot_height\":300,\"plot_width\":700,\"renderers\":[{\"id\":\"1665\"}],\"sizing_mode\":\"fixed\",\"title\":{\"id\":\"1631\"},\"toolbar\":{\"id\":\"1652\"},\"x_range\":{\"id\":\"1627\"},\"x_scale\":{\"id\":\"1635\"},\"y_range\":{\"id\":\"1628\"},\"y_scale\":{\"id\":\"1637\"}},\"id\":\"1630\",\"subtype\":\"Figure\",\"type\":\"Plot\"},{\"attributes\":{\"data_source\":{\"id\":\"1659\"},\"glyph\":{\"id\":\"1662\"},\"hover_glyph\":null,\"muted_glyph\":{\"id\":\"1664\"},\"nonselection_glyph\":{\"id\":\"1663\"},\"selection_glyph\":null,\"view\":{\"id\":\"1666\"}},\"id\":\"1665\",\"type\":\"GlyphRenderer\"},{\"attributes\":{},\"id\":\"1677\",\"type\":\"UnionRenderers\"},{\"attributes\":{\"end\":3857.4,\"reset_end\":3857.4,\"reset_start\":0.0,\"tags\":[[[\"Text\",\"Text\",null]]]},\"id\":\"1628\",\"type\":\"Range1d\"},{\"attributes\":{\"factors\":[\"Delta Airlines\",\"Alaska Airlines\",\"Southwest Airlines\",\"American Airlines\",\"United Airlines\",\"JetBlue\"],\"tags\":[[[\"Airline\",\"Airline\",null]]]},\"id\":\"1627\",\"type\":\"FactorRange\"},{\"attributes\":{\"axis\":{\"id\":\"1639\"},\"grid_line_color\":null,\"ticker\":null},\"id\":\"1641\",\"type\":\"Grid\"},{\"attributes\":{},\"id\":\"1648\",\"type\":\"WheelZoomTool\"},{\"attributes\":{\"text\":\"Airline Tweets\",\"text_color\":{\"value\":\"black\"},\"text_font_size\":{\"value\":\"12pt\"}},\"id\":\"1631\",\"type\":\"Title\"},{\"attributes\":{\"source\":{\"id\":\"1659\"}},\"id\":\"1666\",\"type\":\"CDSView\"},{\"attributes\":{},\"id\":\"1643\",\"type\":\"BasicTicker\"},{\"attributes\":{},\"id\":\"1660\",\"type\":\"Selection\"},{\"attributes\":{\"margin\":[5,5,5,5],\"name\":\"HSpacer02819\",\"sizing_mode\":\"stretch_width\"},\"id\":\"1687\",\"type\":\"Spacer\"},{\"attributes\":{\"axis_label\":\"Number of Tweets\",\"bounds\":\"auto\",\"formatter\":{\"id\":\"1670\"},\"major_label_orientation\":\"horizontal\",\"ticker\":{\"id\":\"1643\"}},\"id\":\"1642\",\"type\":\"LinearAxis\"},{\"attributes\":{},\"id\":\"1640\",\"type\":\"CategoricalTicker\"},{\"attributes\":{\"margin\":[5,5,5,5],\"name\":\"HSpacer02818\",\"sizing_mode\":\"stretch_width\"},\"id\":\"1626\",\"type\":\"Spacer\"},{\"attributes\":{},\"id\":\"1670\",\"type\":\"BasicTickFormatter\"},{\"attributes\":{\"axis\":{\"id\":\"1642\"},\"dimension\":1,\"grid_line_color\":null,\"ticker\":null},\"id\":\"1645\",\"type\":\"Grid\"},{\"attributes\":{},\"id\":\"1650\",\"type\":\"ResetTool\"},{\"attributes\":{\"bounds\":\"auto\",\"formatter\":{\"id\":\"1668\"},\"major_label_orientation\":\"horizontal\",\"ticker\":{\"id\":\"1640\"}},\"id\":\"1639\",\"type\":\"CategoricalAxis\"},{\"attributes\":{\"fill_alpha\":{\"value\":0.2},\"fill_color\":{\"value\":\"#1f77b3\"},\"line_alpha\":{\"value\":0.2},\"top\":{\"field\":\"Text\"},\"width\":{\"value\":0.8},\"x\":{\"field\":\"Airline\"}},\"id\":\"1664\",\"type\":\"VBar\"},{\"attributes\":{},\"id\":\"1637\",\"type\":\"LinearScale\"},{\"attributes\":{\"fill_alpha\":{\"value\":0.1},\"fill_color\":{\"value\":\"#1f77b3\"},\"line_alpha\":{\"value\":0.1},\"top\":{\"field\":\"Text\"},\"width\":{\"value\":0.8},\"x\":{\"field\":\"Airline\"}},\"id\":\"1663\",\"type\":\"VBar\"},{\"attributes\":{\"overlay\":{\"id\":\"1651\"}},\"id\":\"1649\",\"type\":\"BoxZoomTool\"},{\"attributes\":{},\"id\":\"1647\",\"type\":\"PanTool\"}],\"root_ids\":[\"1625\"]},\"title\":\"Bokeh Application\",\"version\":\"2.1.1\"}};\n",
       "  var render_items = [{\"docid\":\"7ef7b56d-8aee-4031-9d3b-0d9f8f44dc0c\",\"root_ids\":[\"1625\"],\"roots\":{\"1625\":\"73a276b5-a363-4e12-822c-55f29f957f28\"}}];\n",
       "  root.Bokeh.embed.embed_items_notebook(docs_json, render_items);\n",
       "  }\n",
       "if (root.Bokeh !== undefined) {\n",
       "    embed_document(root);\n",
       "  } else {\n",
       "    var attempts = 0;\n",
       "    var timer = setInterval(function(root) {\n",
       "      if (root.Bokeh !== undefined) {\n",
       "        clearInterval(timer);\n",
       "        embed_document(root);\n",
       "      } else if (document.readyState == \"complete\") {\n",
       "        attempts++;\n",
       "        if (attempts > 100) {\n",
       "          clearInterval(timer);\n",
       "          console.log(\"Bokeh: ERROR: Unable to run BokehJS code because BokehJS library is missing\");\n",
       "        }\n",
       "      }\n",
       "    }, 10, root)\n",
       "  }\n",
       "})(window);</script>"
      ],
      "text/plain": [
       ":Bars   [Airline]   (Text)"
      ]
     },
     "execution_count": 57,
     "metadata": {
      "application/vnd.holoviews_exec.v0+json": {
       "id": "1625"
      }
     },
     "output_type": "execute_result"
    }
   ],
   "source": [
    "# HV plot\n",
    "\n",
    "tweet_plot = tweet_count.sort_values(ascending=False).hvplot.bar(x='Airline', \n",
    "                                                                 y='Text', \n",
    "                                                                 title='Airline Tweets',\n",
    "                                                                 xlabel=\"\",\n",
    "                                                                 ylabel='Number of Tweets'\n",
    "                                    )\n",
    "\n",
    "tweet_plot"
   ]
  },
  {
   "cell_type": "code",
   "execution_count": 67,
   "metadata": {},
   "outputs": [
    {
     "data": {
      "text/plain": [
       "<matplotlib.axes._subplots.AxesSubplot at 0x7f943d6254d0>"
      ]
     },
     "execution_count": 67,
     "metadata": {},
     "output_type": "execute_result"
    },
    {
     "data": {
      "image/png": "[encoded data removed]",
      "text/plain": [
       "<Figure size 432x288 with 1 Axes>"
      ]
     },
     "metadata": {
      "needs_background": "light"
     },
     "output_type": "display_data"
    }
   ],
   "source": [
    "#airline_group = airline_tweets.groupby('Airline').count()\n",
    "delta = airline_tweets[airline_tweets['Airline']=='Delta Airlines']\n",
    "delta.plot()"
   ]
  },
  {
   "cell_type": "code",
   "execution_count": null,
   "metadata": {},
   "outputs": [],
   "source": []
  }
 ],
 "metadata": {
  "kernelspec": {
   "display_name": "Python 3",
   "language": "python",
   "name": "python3"
  },
  "language_info": {
   "codemirror_mode": {
    "name": "ipython",
    "version": 3
   },
   "file_extension": ".py",
   "mimetype": "text/x-python",
   "name": "python",
   "nbconvert_exporter": "python",
   "pygments_lexer": "ipython3",
   "version": "3.7.7"
  }
 },
 "nbformat": 4,
 "nbformat_minor": 4
}
